{
 "cells": [
  {
   "cell_type": "code",
   "execution_count": 2,
   "id": "5092d657-0d00-489d-8b5b-3aa15e27dd1c",
   "metadata": {},
   "outputs": [],
   "source": [
    "import cv2\n",
    "import matplotlib.pyplot as plt\n",
    "import numpy as np"
   ]
  },
  {
   "cell_type": "code",
   "execution_count": 6,
   "id": "2cfbb3eb-23bf-4f70-9a9d-8a05eec5a139",
   "metadata": {},
   "outputs": [
    {
     "data": {
      "text/plain": [
       "Text(0.5, 1.0, 'Red Images')"
      ]
     },
     "execution_count": 6,
     "metadata": {},
     "output_type": "execute_result"
    },
    {
     "data": {
      "image/png": "[encoded data removed]",
      "text/plain": [
       "<Figure size 640x480 with 1 Axes>"
      ]
     },
     "metadata": {},
     "output_type": "display_data"
    }
   ],
   "source": [
    "width,height,channel= 300,300,3\n",
    "my_red_img= np.zeros((width,height,channel),dtype=np.uint8)\n",
    "\n",
    "my_red_img[:,:,0]= 255\n",
    "plt.imshow(my_red_img)\n",
    "plt.axis('off')\n",
    "plt.title('Red Images')"
   ]
  },
  {
   "cell_type": "code",
   "execution_count": 22,
   "id": "93a20681-260b-40d1-96f0-a3fe35643f69",
   "metadata": {},
   "outputs": [
    {
     "data": {
      "text/plain": [
       "Text(0.5, 1.0, 'Blue')"
      ]
     },
     "execution_count": 22,
     "metadata": {},
     "output_type": "execute_result"
    },
    {
     "data": {
      "image/png": "[encoded data removed]",
      "text/plain": [
       "<Figure size 1000x700 with 3 Axes>"
      ]
     },
     "metadata": {},
     "output_type": "display_data"
    }
   ],
   "source": [
    "my_green_img= np.zeros((width,height,channel),dtype=np.uint8)\n",
    "\n",
    "my_green_img[:,:,1]= 255\n",
    "\n",
    "my_blue_img= np.zeros((width,height,channel),dtype=np.uint8)\n",
    "\n",
    "my_blue_img[:,:,2]= 255\n",
    "\n",
    "\n",
    "fig=plt.figure(figsize=(10,7))\n",
    "rows=1\n",
    "columbs=3\n",
    "\n",
    "fig.add_subplot(rows,columbs,1)\n",
    "my_red_img= np.zeros((width,height,channel),dtype=np.uint8)\n",
    "my_red_img[:,:,0]= 255\n",
    "plt.imshow(my_red_img)\n",
    "plt.axis(\"off\")\n",
    "plt.title(\"Red\")\n",
    "\n",
    "fig.add_subplot(rows,columbs,2)\n",
    "my_green_img= np.zeros((width,height,channel),dtype=np.uint8)\n",
    "my_green_img[:,:,1]= 255\n",
    "plt.imshow(my_green_img)\n",
    "plt.axis(\"off\")\n",
    "plt.title(\"Green\")\n",
    "\n",
    "fig.add_subplot(rows,columbs,3)\n",
    "my_blue_img= np.zeros((width,height,channel),dtype=np.uint8)\n",
    "my_blue_img[:,:,2]= 255\n",
    "plt.imshow(my_blue_img)\n",
    "plt.axis(\"off\")\n",
    "plt.title(\"Blue\")\n",
    "\n"
   ]
  },
  {
   "cell_type": "code",
   "execution_count": null,
   "id": "4894529f-412c-4a61-a53b-6dd22fb8c871",
   "metadata": {},
   "outputs": [
    {
     "ename": "",
     "evalue": "",
     "output_type": "error",
     "traceback": [
      "\u001b[1;31mRunning cells with 'Python 3.12.2' requires the ipykernel package.\n",
      "\u001b[1;31mRun the following command to install 'ipykernel' into the Python environment. \n",
      "\u001b[1;31mCommand: 'c:/Users/ozdem/AppData/Local/Programs/Python/Python312/python.exe -m pip install ipykernel -U --user --force-reinstall'"
     ]
    }
   ],
   "source": [
    "my_white_img= np.ones((width,height,channel),dtype=np.uint8)*255\n",
    "my_black_img= np.ones((width,height,channel),dtype=np.uint8)\n",
    "\n",
    "\n",
    "my_gray_img_1 = np.random.randint(128, 129, size=(width, height, channel), dtype=np.uint8)\n",
    "my_gray_img_2= np.zeros((width,height,channel),dtype=np.uint8)\n",
    "my_gray_img_2[:,:,:]=128\n",
    "\n",
    "\n",
    "fig=plt.figure(figsize=(10,7),facecolor='purple')\n",
    "rows=1\n",
    "columbs=4\n",
    "\n",
    "fig.add_subplot(rows,columbs,1)\n",
    "plt.imshow(my_white_img,cmap=\"gray\")\n",
    "plt.axis(\"off\")\n",
    "plt.title(\"White\")\n",
    "\n",
    "fig.add_subplot(rows,columbs,2)\n",
    "plt.imshow(my_gray_img_2,cmap=\"gray\")\n",
    "plt.axis(\"off\")\n",
    "plt.title(\"Gray 2\")\n",
    "\n",
    "fig.add_subplot(rows,columbs,3)\n",
    "plt.imshow(my_gray_img_1,cmap=\"gray\")\n",
    "plt.axis(\"off\")\n",
    "plt.title(\"Gray\")\n",
    "\n",
    "fig.add_subplot(rows,columbs,4)\n",
    "plt.imshow(my_black_img,cmap=\"gray\")\n",
    "plt.axis(\"off\")\n",
    "plt.title(\"Black\")\n",
    "\n"
   ]
  },
  {
   "cell_type": "code",
   "execution_count": null,
   "id": "33b187a8-ea3d-4618-bebc-32549f025e8e",
   "metadata": {},
   "outputs": [
    {
     "ename": "",
     "evalue": "",
     "output_type": "error",
     "traceback": [
      "\u001b[1;31mRunning cells with 'Python 3.12.2' requires the ipykernel package.\n",
      "\u001b[1;31mRun the following command to install 'ipykernel' into the Python environment. \n",
      "\u001b[1;31mCommand: 'c:/Users/ozdem/AppData/Local/Programs/Python/Python312/python.exe -m pip install ipykernel -U --user --force-reinstall'"
     ]
    }
   ],
   "source": [
    "new_widht,new_height=300,450\n",
    "flag_germany=np.zeros((new_widht,new_height,channel),dtype=np.uint8)\n",
    "flag_germany[:,100,:]=[0,0,0]\n",
    "flag_germany[100:200,:]=[255,0,0]\n",
    "flag_germany[200:300,:]=[255,255,0]\n",
    "plt.imshow(flag_germany)\n",
    "plt.axis('off')\n",
    "plt.title(\"Almanya Bayrağı\")"
   ]
  },
  {
   "cell_type": "code",
   "execution_count": null,
   "id": "19949a13-f9ca-42a8-9dc5-601a10923514",
   "metadata": {},
   "outputs": [
    {
     "ename": "",
     "evalue": "",
     "output_type": "error",
     "traceback": [
      "\u001b[1;31mRunning cells with 'Python 3.12.2' requires the ipykernel package.\n",
      "\u001b[1;31mRun the following command to install 'ipykernel' into the Python environment. \n",
      "\u001b[1;31mCommand: 'c:/Users/ozdem/AppData/Local/Programs/Python/Python312/python.exe -m pip install ipykernel -U --user --force-reinstall'"
     ]
    }
   ],
   "source": [
    "new_widht,new_height=300,450\n",
    "flag_belgium=np.zeros((new_widht,new_height,channel),dtype=np.uint8)\n",
    "\n",
    "flag_belgium[:,0:150]=[0,0,0]\n",
    "\n",
    "flag_belgium[:,150:300]=[255,255,0]\n",
    "\n",
    "flag_belgium[:,300:450]=[255,0,0]\n",
    "\n",
    "plt.imshow(flag_belgium)\n",
    "plt.axis('off')\n",
    "plt.title(\"Belçika Bayrağı\")"
   ]
  },
  {
   "cell_type": "code",
   "execution_count": null,
   "id": "44391927-fc66-4706-8792-a4eeb9a956db",
   "metadata": {},
   "outputs": [
    {
     "ename": "",
     "evalue": "",
     "output_type": "error",
     "traceback": [
      "\u001b[1;31mRunning cells with 'Python 3.12.2' requires the ipykernel package.\n",
      "\u001b[1;31mRun the following command to install 'ipykernel' into the Python environment. \n",
      "\u001b[1;31mCommand: 'c:/Users/ozdem/AppData/Local/Programs/Python/Python312/python.exe -m pip install ipykernel -U --user --force-reinstall'"
     ]
    }
   ],
   "source": [
    "mask_yellow=(flag_belgium[:,:,0]==255)&(flag_belgium[:,:,1]==255)&(flag_belgium[:,:,2]==0)\n",
    "\n",
    "flag_belgium[mask_yellow]=[0,0,255]\n",
    "\n",
    "plt.imshow(flag_belgium)\n",
    "plt.axis('off')"
   ]
  }
 ],
 "metadata": {
  "kernelspec": {
   "display_name": "Python 3",
   "language": "python",
   "name": "python3"
  },
  "language_info": {
   "codemirror_mode": {
    "name": "ipython",
    "version": 3
   },
   "file_extension": ".py",
   "mimetype": "text/x-python",
   "name": "python",
   "nbconvert_exporter": "python",
   "pygments_lexer": "ipython3",
   "version": "3.12.2"
  }
 },
 "nbformat": 4,
 "nbformat_minor": 5
}
